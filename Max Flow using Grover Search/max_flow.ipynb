{
 "cells": [
  {
   "cell_type": "code",
   "execution_count": 1,
   "metadata": {},
   "outputs": [],
   "source": [
    "import networkx as nx\n",
    "import matplotlib.pyplot as plt\n",
    "%matplotlib inline"
   ]
  },
  {
   "cell_type": "markdown",
   "metadata": {},
   "source": [
    "## algorithm"
   ]
  },
  {
   "cell_type": "code",
   "execution_count": 2,
   "metadata": {},
   "outputs": [],
   "source": [
    "def ford_fulkerson(graph, source, sink, debug=None):\n",
    "    flow, path = 0, True\n",
    "    \n",
    "    while path:\n",
    "        # search for path with flow reserve\n",
    "        path, reserve = depth_first_search(graph, source, sink)\n",
    "        flow += reserve\n",
    "\n",
    "        # increase flow along the path\n",
    "        for v, u in zip(path, path[1:]):\n",
    "            if graph.has_edge(v, u):\n",
    "                graph[v][u]['flow'] += reserve\n",
    "            else:\n",
    "                graph[u][v]['flow'] -= reserve\n",
    "        \n",
    "        # show intermediate results\n",
    "        if callable(debug):\n",
    "            debug(graph, path, reserve, flow)"
   ]
  },
  {
   "cell_type": "code",
   "execution_count": 3,
   "metadata": {},
   "outputs": [],
   "source": [
    "import numpy as np\n",
    "import matplotlib.pyplot as plt\n",
    "\n",
    "from qiskit import Aer, IBMQ\n",
    "from qiskit import QuantumCircuit, ClassicalRegister, QuantumRegister\n",
    "from qiskit import available_backends, execute, register, get_backend, compile\n",
    "\n",
    "from qiskit.tools import visualization\n",
    "\n",
    "\n",
    "def oracle(circuit, f_in, f_out, aux, n, manual_index):\n",
    "    for i in range(n):\n",
    "        if(((manual_index >> i) & 1) == 0):\n",
    "            circuit.x(f_in[n - i - 1])\n",
    "    \n",
    "    for i in range(n):\n",
    "        circuit.cx(f_in[i], aux[i])\n",
    "\n",
    "    circuit.ccx(aux[0], aux[1], aux[3])\n",
    "    circuit.ccx(aux[2], aux[3], f_out[0])\n",
    "    circuit.ccx(aux[0], aux[1], aux[3])\n",
    "    \n",
    "    for i in range(n):\n",
    "        circuit.cx(f_in[i], aux[i])\n",
    "    \n",
    "    for i in range(n):\n",
    "        if(((manual_index >> i) & 1) == 0):\n",
    "            circuit.x(f_in[n - i - 1])\n",
    "\n",
    "def n_controlled_Z(circuit, controls, target):\n",
    "    if (len(controls) > 2):\n",
    "        raise ValueError('The controlled Z with more than 2 ' +\n",
    "                         'controls is not implemented')\n",
    "    elif (len(controls) == 1):\n",
    "        circuit.h(target)\n",
    "        circuit.cx(controls[0], target)\n",
    "        circuit.h(target)\n",
    "    elif (len(controls) == 2):\n",
    "        circuit.h(target)\n",
    "        circuit.ccx(controls[0], controls[1], target)\n",
    "        circuit.h(target)\n",
    "\n",
    "def inversion_about_average(circuit, f_in, n):\n",
    "    for j in range(n):\n",
    "        circuit.h(f_in[j])\n",
    "    for j in range(n):\n",
    "        circuit.x(f_in[j])\n",
    "    n_controlled_Z(circuit, [f_in[j] for j in range(n-1)], f_in[n-1])\n",
    "    for j in range(n):\n",
    "        circuit.x(f_in[j])\n",
    "    for j in range(n):\n",
    "        circuit.h(f_in[j])\n",
    "\n",
    "def input_state(circuit, f_in, f_out, n):\n",
    "    for j in range(n):\n",
    "        circuit.h(f_in[j])\n",
    "    circuit.x(f_out)\n",
    "    circuit.h(f_out)\n",
    "\n",
    "def get_predefine_index(arr):\n",
    "    return arr.index(min(arr))\n",
    "\n",
    "def Grover_search(arr):\n",
    "    n = 3\n",
    "\n",
    "    f_in = QuantumRegister(n)\n",
    "    f_out = QuantumRegister(1)\n",
    "    aux = QuantumRegister(n + 1)\n",
    "\n",
    "    ans = ClassicalRegister(n)\n",
    "\n",
    "    grover = QuantumCircuit()\n",
    "    grover.add(f_in)\n",
    "    grover.add(f_out)\n",
    "    grover.add(aux)\n",
    "    grover.add(ans)\n",
    "\n",
    "    predefined_index = get_predefine_index(arr)\n",
    "\n",
    "    input_state(grover, f_in, f_out, n)\n",
    "\n",
    "    T = 2\n",
    "    for t in range(T):\n",
    "        oracle(grover, f_in, f_out, aux, n, predefined_index)\n",
    "        inversion_about_average(grover, f_in, n)\n",
    "\n",
    "    for j in range(n):\n",
    "        grover.measure(f_in[j], ans[j])\n",
    "\n",
    "    backend = Aer.get_backend('qasm_simulator')\n",
    "    job = execute([grover], backend=backend, shots=1000)\n",
    "    result = job.result()\n",
    "\n",
    "    counts = result.get_counts(grover)\n",
    "    inv = [(value, key) for key, value in counts.items()]\n",
    "    outstr = str(max(inv)[1])\n",
    "    ind = 0\n",
    "    for i in range(len(outstr)):\n",
    "        if outstr[i] == '1':\n",
    "            ind = ind * 2 + 1\n",
    "        else:\n",
    "            ind = ind * 2\n",
    "    print(\"ans \",ind+1)\n",
    "    #print(arr[ind])\n",
    "    visualization.plot_histogram(counts)\n",
    "    return ind\n",
    "    #return arr[ind]\n",
    "\n",
    "#a = [1, 2, 0, 4, 5]\n",
    "#Grover_search(a)"
   ]
  },
  {
   "cell_type": "code",
   "execution_count": 4,
   "metadata": {},
   "outputs": [],
   "source": [
    "\n",
    "def depth_first_search(graph, source, sink):\n",
    "    undirected = graph.to_undirected()\n",
    "    explored = {source}\n",
    "    print(\"Search for neighbour of \",source)\n",
    "    grover_neighbour = Grover_search(adj_matrix[int(source)])\n",
    "    #print(dict(undirected[source]))\n",
    "    #print(graph[grover_neighbour])\n",
    "    stack = [(source, 0, dict(undirected[source]))]\n",
    "    #stack = [(source, 0, dict(grover_neighbour))]\n",
    "    \n",
    "    while stack:\n",
    "        v, _, neighbours = stack[-1]\n",
    "        if v == sink:\n",
    "            break\n",
    "        \n",
    "        # search the next neighbour\n",
    "        while neighbours:\n",
    "            u, e = neighbours.popitem()\n",
    "            if u not in explored:\n",
    "                break\n",
    "        else:\n",
    "            stack.pop()\n",
    "            continue\n",
    "        \n",
    "        # current flow and capacity\n",
    "        in_direction = graph.has_edge(v, u)\n",
    "        capacity = e['capacity']\n",
    "        flow = e['flow']\n",
    "        neighbours = dict(undirected[u])\n",
    "        print(\"Search for neighbour of \",u)\n",
    "        grover_neighbour = (Grover_search(adj_matrix[int(u)]))\n",
    "        #print(dict(undirected[source]))\n",
    "        print(grover_neighbour)\n",
    "        #neighbours = dict(grover_search)\n",
    "\n",
    "        # increase or redirect flow at the edge\n",
    "        if in_direction and flow < capacity:\n",
    "            stack.append((u, capacity - flow, neighbours))\n",
    "            explored.add(u)\n",
    "        elif not in_direction and flow:\n",
    "            stack.append((u, flow, neighbours))\n",
    "            explored.add(u)\n",
    "\n",
    "    # (source, sink) path and its flow reserve\n",
    "    reserve = min((f for _, f, _ in stack[1:]), default=0)\n",
    "    path = [v for v, _, _ in stack]\n",
    "    \n",
    "    return path, reserve"
   ]
  },
  {
   "cell_type": "markdown",
   "metadata": {},
   "source": [
    "## graph"
   ]
  },
  {
   "cell_type": "code",
   "execution_count": 5,
   "metadata": {},
   "outputs": [],
   "source": [
    "graph = nx.DiGraph()\n",
    "graph.add_nodes_from('123')\n",
    "graph.add_edges_from([\n",
    "    ('2', '1', {'capacity': 4, 'flow': 0}),\n",
    "    ('1', '3', {'capacity': 5, 'flow': 0}),\n",
    "])\n",
    "\n",
    "adj_matrix = []\n",
    "adj_matrix.append([1, 2, 3, 4])\n",
    "adj_matrix.append([3, 2, 0, 1])\n",
    "adj_matrix.append([0, 2, 3, 4])\n",
    "adj_matrix.append([1, 2, 3, 4])"
   ]
  },
  {
   "cell_type": "code",
   "execution_count": 6,
   "metadata": {},
   "outputs": [],
   "source": [
    "layout = {\n",
    "    '2': [0, 1], '1': [1, 1], '3': [2, 1],\n",
    "}"
   ]
  },
  {
   "cell_type": "code",
   "execution_count": 7,
   "metadata": {},
   "outputs": [],
   "source": [
    "def draw_graph():\n",
    "    plt.figure(figsize=(12, 4))\n",
    "    plt.axis('off')\n",
    "\n",
    "    nx.draw_networkx_nodes(graph, layout, node_color='steelblue', node_size=600)\n",
    "    nx.draw_networkx_edges(graph, layout, edge_color='gray')\n",
    "    nx.draw_networkx_labels(graph, layout, font_color='white')\n",
    "\n",
    "    for u, v, e in graph.edges(data=True):\n",
    "        label = '{}/{}'.format(e['flow'], e['capacity'])\n",
    "        color = 'green' if e['flow'] < e['capacity'] else 'red'\n",
    "        x = layout[u][0] * .6 + layout[v][0] * .4\n",
    "        y = layout[u][1] * .6 + layout[v][1] * .4\n",
    "        t = plt.text(x, y, label, size=16, color=color, \n",
    "                     horizontalalignment='center', verticalalignment='center')\n",
    "        \n",
    "    plt.show()"
   ]
  },
  {
   "cell_type": "code",
   "execution_count": 8,
   "metadata": {},
   "outputs": [
    {
     "data": {
      "image/png": "[encoded data removed]",
      "text/plain": [
       "<Figure size 864x288 with 1 Axes>"
      ]
     },
     "metadata": {
      "needs_background": "light"
     },
     "output_type": "display_data"
    }
   ],
   "source": [
    "draw_graph()"
   ]
  },
  {
   "cell_type": "markdown",
   "metadata": {},
   "source": [
    "## run"
   ]
  },
  {
   "cell_type": "code",
   "execution_count": 9,
   "metadata": {},
   "outputs": [],
   "source": [
    "def flow_debug(graph, path, reserve, flow):\n",
    "    print('flow increased by', reserve, \n",
    "          'at path', path,\n",
    "          '; current flow', flow)\n",
    "    draw_graph()"
   ]
  },
  {
   "cell_type": "code",
   "execution_count": 10,
   "metadata": {},
   "outputs": [
    {
     "name": "stdout",
     "output_type": "stream",
     "text": [
      "Search for neighbour of  2\n",
      "ans  1\n"
     ]
    },
    {
     "data": {
      "image/png": "[encoded data removed]",
      "text/plain": [
       "<Figure size 432x288 with 1 Axes>"
      ]
     },
     "metadata": {
      "needs_background": "light"
     },
     "output_type": "display_data"
    },
    {
     "name": "stdout",
     "output_type": "stream",
     "text": [
      "Search for neighbour of  1\n",
      "ans  3\n"
     ]
    },
    {
     "data": {
      "image/png": "[encoded data removed]",
      "text/plain": [
       "<Figure size 432x288 with 1 Axes>"
      ]
     },
     "metadata": {
      "needs_background": "light"
     },
     "output_type": "display_data"
    },
    {
     "name": "stdout",
     "output_type": "stream",
     "text": [
      "2\n",
      "Search for neighbour of  3\n",
      "ans  1\n"
     ]
    },
    {
     "data": {
      "image/png": "[encoded data removed]",
      "text/plain": [
       "<Figure size 432x288 with 1 Axes>"
      ]
     },
     "metadata": {
      "needs_background": "light"
     },
     "output_type": "display_data"
    },
    {
     "name": "stdout",
     "output_type": "stream",
     "text": [
      "0\n",
      "flow increased by 4 at path ['2', '1', '3'] ; current flow 4\n"
     ]
    },
    {
     "data": {
      "image/png": "[encoded data removed]",
      "text/plain": [
       "<Figure size 864x288 with 1 Axes>"
      ]
     },
     "metadata": {
      "needs_background": "light"
     },
     "output_type": "display_data"
    },
    {
     "name": "stdout",
     "output_type": "stream",
     "text": [
      "Search for neighbour of  2\n",
      "ans  1\n"
     ]
    },
    {
     "data": {
      "image/png": "[encoded data removed]",
      "text/plain": [
       "<Figure size 432x288 with 1 Axes>"
      ]
     },
     "metadata": {
      "needs_background": "light"
     },
     "output_type": "display_data"
    },
    {
     "name": "stdout",
     "output_type": "stream",
     "text": [
      "Search for neighbour of  1\n",
      "ans  3\n"
     ]
    },
    {
     "data": {
      "image/png": "[encoded data removed]",
      "text/plain": [
       "<Figure size 432x288 with 1 Axes>"
      ]
     },
     "metadata": {
      "needs_background": "light"
     },
     "output_type": "display_data"
    },
    {
     "name": "stdout",
     "output_type": "stream",
     "text": [
      "2\n",
      "flow increased by 0 at path [] ; current flow 4\n"
     ]
    },
    {
     "data": {
      "image/png": "[encoded data removed]",
      "text/plain": [
       "<Figure size 864x288 with 1 Axes>"
      ]
     },
     "metadata": {
      "needs_background": "light"
     },
     "output_type": "display_data"
    }
   ],
   "source": [
    "ford_fulkerson(graph, '2', '3', flow_debug)"
   ]
  },
  {
   "cell_type": "code",
   "execution_count": null,
   "metadata": {},
   "outputs": [],
   "source": []
  }
 ],
 "metadata": {
  "kernelspec": {
   "display_name": "Python 3",
   "language": "python",
   "name": "python3"
  },
  "language_info": {
   "codemirror_mode": {
    "name": "ipython",
    "version": 3
   },
   "file_extension": ".py",
   "mimetype": "text/x-python",
   "name": "python",
   "nbconvert_exporter": "python",
   "pygments_lexer": "ipython3",
   "version": "3.6.2"
  }
 },
 "nbformat": 4,
 "nbformat_minor": 2
}
